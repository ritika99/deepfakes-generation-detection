{
  "nbformat": 4,
  "nbformat_minor": 0,
  "metadata": {
    "colab": {
      "name": "DIC train model.ipynb",
      "provenance": [],
      "collapsed_sections": []
    },
    "kernelspec": {
      "name": "python3",
      "display_name": "Python 3"
    },
    "accelerator": "GPU"
  },
  "cells": [
    {
      "cell_type": "markdown",
      "metadata": {
        "id": "7ZBK_fNF-7YX"
      },
      "source": [
        "### first-order-model\n",
        "\n"
      ]
    },
    {
      "cell_type": "code",
      "metadata": {
        "id": "Ef45kWJgp6kp"
      },
      "source": [
        "# !git clone https://github.com/AliaksandrSiarohin/first-order-model"
      ],
      "execution_count": null,
      "outputs": []
    },
    {
      "cell_type": "code",
      "metadata": {
        "id": "XhyM6C5Gp8oE"
      },
      "source": [
        "# cd first-order-model"
      ],
      "execution_count": null,
      "outputs": []
    },
    {
      "cell_type": "markdown",
      "metadata": {
        "id": "7xhj0jcOXpzu"
      },
      "source": [
        "### Mount\n"
      ]
    },
    {
      "cell_type": "code",
      "metadata": {
        "colab": {
          "base_uri": "https://localhost:8080/"
        },
        "id": "xYROlXnhqeTt",
        "outputId": "c0b8a2a4-ca13-47af-fe7d-ba8457783a81"
      },
      "source": [
        "from google.colab import drive\n",
        "drive.mount('/content/gdrive')"
      ],
      "execution_count": 1,
      "outputs": [
        {
          "output_type": "stream",
          "text": [
            "Mounted at /content/gdrive\n"
          ],
          "name": "stdout"
        }
      ]
    },
    {
      "cell_type": "code",
      "metadata": {
        "colab": {
          "base_uri": "https://localhost:8080/"
        },
        "id": "GgKSDIVXuPBI",
        "outputId": "94693508-6a9d-458b-c53a-6e726fef3e45"
      },
      "source": [
        "cd /content/gdrive/My\\ Drive/RitikaVideoDataset/data/first-order-model"
      ],
      "execution_count": 4,
      "outputs": [
        {
          "output_type": "stream",
          "text": [
            "/content/gdrive/My Drive/RitikaVideoDataset/data/first-order-model\n"
          ],
          "name": "stdout"
        }
      ]
    },
    {
      "cell_type": "code",
      "metadata": {
        "colab": {
          "base_uri": "https://localhost:8080/"
        },
        "id": "jnDZ9-uVeVnB",
        "outputId": "afc5f9f8-2a3a-4073-a348-c3816ae1dd21"
      },
      "source": [
        "ls /content/gdrive/My\\ Drive/RitikaVideoDataset/data"
      ],
      "execution_count": 5,
      "outputs": [
        {
          "output_type": "stream",
          "text": [
            "\u001b[0m\u001b[01;34mdataset\u001b[0m/               \u001b[01;34mfirst-order-model\u001b[0m/  \u001b[01;34mritika_dataset_31\u001b[0m/\n",
            "\u001b[01;34mdiverse_face_dataset\u001b[0m/  \u001b[01;34mritika_dataset\u001b[0m/\n"
          ],
          "name": "stdout"
        }
      ]
    },
    {
      "cell_type": "markdown",
      "metadata": {
        "id": "yOUmyWJAIdAt"
      },
      "source": [
        "## Video Preprocessing"
      ]
    },
    {
      "cell_type": "code",
      "metadata": {
        "colab": {
          "base_uri": "https://localhost:8080/"
        },
        "id": "Zq0a9nw7Ioa4",
        "outputId": "11a5a696-2f54-4b6b-a015-313649984ba5"
      },
      "source": [
        "!ls /content/gdrive/MyDrive/RitikaVideoDataset/data/dataset/fullLengthVideos\n",
        "!ls /content/gdrive/MyDrive/RitikaVideoDataset/data/diverse_face_dataset/test | wc -l"
      ],
      "execution_count": 42,
      "outputs": [
        {
          "output_type": "stream",
          "text": [
            "MoreVideos  self2.mov  self4.mov  self6.mov  self8.mov\n",
            "self1.mov   self3.mov  self5.mov  self7.mov\n",
            "121\n"
          ],
          "name": "stdout"
        }
      ]
    },
    {
      "cell_type": "code",
      "metadata": {
        "colab": {
          "base_uri": "https://localhost:8080/"
        },
        "id": "7Z0hIZN-Ja0n",
        "outputId": "0e5a1507-ef25-4160-933d-586d29fc4a5e"
      },
      "source": [
        "from moviepy.editor import *\n",
        "main_clip = VideoFileClip(\"/content/gdrive/MyDrive/RitikaVideoDataset/data/dataset/fullLengthVideos/self9.mov\") \n",
        "print(\"Video duration: \", int(main_clip.duration))\n",
        "item = 366\n",
        "for x in range(0, int(main_clip.duration), 3):\n",
        "  y = x+3\n",
        "  if(y>int(main_clip.duration)):\n",
        "    break\n",
        "  print (x,y)\n",
        "  new_clip = main_clip.subclip(x, y)\n",
        "  new_clip = new_clip.resize(height=256, width=256)\n",
        "  item+=1\n",
        "  new_clip.write_videofile(\"/content/gdrive/MyDrive/RitikaVideoDataset/data/diverse_face_dataset/NEW/self_\" + str(item) + \".mp4\")"
      ],
      "execution_count": 39,
      "outputs": [
        {
          "output_type": "stream",
          "text": [
            "Video duration:  69\n",
            "0 3\n",
            "[MoviePy] >>>> Building video /content/gdrive/MyDrive/RitikaVideoDataset/data/diverse_face_dataset/NEW/self_344.mp4\n",
            "[MoviePy] Writing video /content/gdrive/MyDrive/RitikaVideoDataset/data/diverse_face_dataset/NEW/self_344.mp4\n"
          ],
          "name": "stdout"
        },
        {
          "output_type": "stream",
          "text": [
            " 99%|█████████▉| 90/91 [00:02<00:00, 34.20it/s]\n"
          ],
          "name": "stderr"
        },
        {
          "output_type": "stream",
          "text": [
            "[MoviePy] Done.\n",
            "[MoviePy] >>>> Video ready: /content/gdrive/MyDrive/RitikaVideoDataset/data/diverse_face_dataset/NEW/self_344.mp4 \n",
            "\n",
            "3 6\n",
            "[MoviePy] >>>> Building video /content/gdrive/MyDrive/RitikaVideoDataset/data/diverse_face_dataset/NEW/self_345.mp4\n",
            "[MoviePy] Writing video /content/gdrive/MyDrive/RitikaVideoDataset/data/diverse_face_dataset/NEW/self_345.mp4\n"
          ],
          "name": "stdout"
        },
        {
          "output_type": "stream",
          "text": [
            " 99%|█████████▉| 90/91 [00:02<00:00, 37.83it/s]\n"
          ],
          "name": "stderr"
        },
        {
          "output_type": "stream",
          "text": [
            "[MoviePy] Done.\n",
            "[MoviePy] >>>> Video ready: /content/gdrive/MyDrive/RitikaVideoDataset/data/diverse_face_dataset/NEW/self_345.mp4 \n",
            "\n",
            "6 9\n",
            "[MoviePy] >>>> Building video /content/gdrive/MyDrive/RitikaVideoDataset/data/diverse_face_dataset/NEW/self_346.mp4\n",
            "[MoviePy] Writing video /content/gdrive/MyDrive/RitikaVideoDataset/data/diverse_face_dataset/NEW/self_346.mp4\n"
          ],
          "name": "stdout"
        },
        {
          "output_type": "stream",
          "text": [
            " 99%|█████████▉| 90/91 [00:02<00:00, 38.72it/s]\n"
          ],
          "name": "stderr"
        },
        {
          "output_type": "stream",
          "text": [
            "[MoviePy] Done.\n",
            "[MoviePy] >>>> Video ready: /content/gdrive/MyDrive/RitikaVideoDataset/data/diverse_face_dataset/NEW/self_346.mp4 \n",
            "\n",
            "9 12\n",
            "[MoviePy] >>>> Building video /content/gdrive/MyDrive/RitikaVideoDataset/data/diverse_face_dataset/NEW/self_347.mp4\n",
            "[MoviePy] Writing video /content/gdrive/MyDrive/RitikaVideoDataset/data/diverse_face_dataset/NEW/self_347.mp4\n"
          ],
          "name": "stdout"
        },
        {
          "output_type": "stream",
          "text": [
            " 99%|█████████▉| 90/91 [00:02<00:00, 38.75it/s]\n"
          ],
          "name": "stderr"
        },
        {
          "output_type": "stream",
          "text": [
            "[MoviePy] Done.\n",
            "[MoviePy] >>>> Video ready: /content/gdrive/MyDrive/RitikaVideoDataset/data/diverse_face_dataset/NEW/self_347.mp4 \n",
            "\n",
            "12 15\n",
            "[MoviePy] >>>> Building video /content/gdrive/MyDrive/RitikaVideoDataset/data/diverse_face_dataset/NEW/self_348.mp4\n",
            "[MoviePy] Writing video /content/gdrive/MyDrive/RitikaVideoDataset/data/diverse_face_dataset/NEW/self_348.mp4\n"
          ],
          "name": "stdout"
        },
        {
          "output_type": "stream",
          "text": [
            " 99%|█████████▉| 90/91 [00:02<00:00, 39.50it/s]\n"
          ],
          "name": "stderr"
        },
        {
          "output_type": "stream",
          "text": [
            "[MoviePy] Done.\n",
            "[MoviePy] >>>> Video ready: /content/gdrive/MyDrive/RitikaVideoDataset/data/diverse_face_dataset/NEW/self_348.mp4 \n",
            "\n",
            "15 18\n",
            "[MoviePy] >>>> Building video /content/gdrive/MyDrive/RitikaVideoDataset/data/diverse_face_dataset/NEW/self_349.mp4\n",
            "[MoviePy] Writing video /content/gdrive/MyDrive/RitikaVideoDataset/data/diverse_face_dataset/NEW/self_349.mp4\n"
          ],
          "name": "stdout"
        },
        {
          "output_type": "stream",
          "text": [
            " 99%|█████████▉| 90/91 [00:02<00:00, 37.46it/s]\n"
          ],
          "name": "stderr"
        },
        {
          "output_type": "stream",
          "text": [
            "[MoviePy] Done.\n",
            "[MoviePy] >>>> Video ready: /content/gdrive/MyDrive/RitikaVideoDataset/data/diverse_face_dataset/NEW/self_349.mp4 \n",
            "\n",
            "18 21\n",
            "[MoviePy] >>>> Building video /content/gdrive/MyDrive/RitikaVideoDataset/data/diverse_face_dataset/NEW/self_350.mp4\n",
            "[MoviePy] Writing video /content/gdrive/MyDrive/RitikaVideoDataset/data/diverse_face_dataset/NEW/self_350.mp4\n"
          ],
          "name": "stdout"
        },
        {
          "output_type": "stream",
          "text": [
            " 99%|█████████▉| 90/91 [00:02<00:00, 39.69it/s]\n"
          ],
          "name": "stderr"
        },
        {
          "output_type": "stream",
          "text": [
            "[MoviePy] Done.\n",
            "[MoviePy] >>>> Video ready: /content/gdrive/MyDrive/RitikaVideoDataset/data/diverse_face_dataset/NEW/self_350.mp4 \n",
            "\n",
            "21 24\n",
            "[MoviePy] >>>> Building video /content/gdrive/MyDrive/RitikaVideoDataset/data/diverse_face_dataset/NEW/self_351.mp4\n",
            "[MoviePy] Writing video /content/gdrive/MyDrive/RitikaVideoDataset/data/diverse_face_dataset/NEW/self_351.mp4\n"
          ],
          "name": "stdout"
        },
        {
          "output_type": "stream",
          "text": [
            " 99%|█████████▉| 90/91 [00:02<00:00, 39.04it/s]\n"
          ],
          "name": "stderr"
        },
        {
          "output_type": "stream",
          "text": [
            "[MoviePy] Done.\n",
            "[MoviePy] >>>> Video ready: /content/gdrive/MyDrive/RitikaVideoDataset/data/diverse_face_dataset/NEW/self_351.mp4 \n",
            "\n",
            "24 27\n",
            "[MoviePy] >>>> Building video /content/gdrive/MyDrive/RitikaVideoDataset/data/diverse_face_dataset/NEW/self_352.mp4\n",
            "[MoviePy] Writing video /content/gdrive/MyDrive/RitikaVideoDataset/data/diverse_face_dataset/NEW/self_352.mp4\n"
          ],
          "name": "stdout"
        },
        {
          "output_type": "stream",
          "text": [
            " 99%|█████████▉| 90/91 [00:02<00:00, 39.61it/s]\n"
          ],
          "name": "stderr"
        },
        {
          "output_type": "stream",
          "text": [
            "[MoviePy] Done.\n",
            "[MoviePy] >>>> Video ready: /content/gdrive/MyDrive/RitikaVideoDataset/data/diverse_face_dataset/NEW/self_352.mp4 \n",
            "\n",
            "27 30\n",
            "[MoviePy] >>>> Building video /content/gdrive/MyDrive/RitikaVideoDataset/data/diverse_face_dataset/NEW/self_353.mp4\n",
            "[MoviePy] Writing video /content/gdrive/MyDrive/RitikaVideoDataset/data/diverse_face_dataset/NEW/self_353.mp4\n"
          ],
          "name": "stdout"
        },
        {
          "output_type": "stream",
          "text": [
            " 99%|█████████▉| 90/91 [00:02<00:00, 39.68it/s]\n"
          ],
          "name": "stderr"
        },
        {
          "output_type": "stream",
          "text": [
            "[MoviePy] Done.\n",
            "[MoviePy] >>>> Video ready: /content/gdrive/MyDrive/RitikaVideoDataset/data/diverse_face_dataset/NEW/self_353.mp4 \n",
            "\n",
            "30 33\n",
            "[MoviePy] >>>> Building video /content/gdrive/MyDrive/RitikaVideoDataset/data/diverse_face_dataset/NEW/self_354.mp4\n",
            "[MoviePy] Writing video /content/gdrive/MyDrive/RitikaVideoDataset/data/diverse_face_dataset/NEW/self_354.mp4\n"
          ],
          "name": "stdout"
        },
        {
          "output_type": "stream",
          "text": [
            " 99%|█████████▉| 90/91 [00:02<00:00, 39.24it/s]\n"
          ],
          "name": "stderr"
        },
        {
          "output_type": "stream",
          "text": [
            "[MoviePy] Done.\n",
            "[MoviePy] >>>> Video ready: /content/gdrive/MyDrive/RitikaVideoDataset/data/diverse_face_dataset/NEW/self_354.mp4 \n",
            "\n",
            "33 36\n",
            "[MoviePy] >>>> Building video /content/gdrive/MyDrive/RitikaVideoDataset/data/diverse_face_dataset/NEW/self_355.mp4\n",
            "[MoviePy] Writing video /content/gdrive/MyDrive/RitikaVideoDataset/data/diverse_face_dataset/NEW/self_355.mp4\n"
          ],
          "name": "stdout"
        },
        {
          "output_type": "stream",
          "text": [
            " 99%|█████████▉| 90/91 [00:02<00:00, 39.59it/s]\n"
          ],
          "name": "stderr"
        },
        {
          "output_type": "stream",
          "text": [
            "[MoviePy] Done.\n",
            "[MoviePy] >>>> Video ready: /content/gdrive/MyDrive/RitikaVideoDataset/data/diverse_face_dataset/NEW/self_355.mp4 \n",
            "\n",
            "36 39\n",
            "[MoviePy] >>>> Building video /content/gdrive/MyDrive/RitikaVideoDataset/data/diverse_face_dataset/NEW/self_356.mp4\n",
            "[MoviePy] Writing video /content/gdrive/MyDrive/RitikaVideoDataset/data/diverse_face_dataset/NEW/self_356.mp4\n"
          ],
          "name": "stdout"
        },
        {
          "output_type": "stream",
          "text": [
            " 99%|█████████▉| 90/91 [00:02<00:00, 39.17it/s]\n"
          ],
          "name": "stderr"
        },
        {
          "output_type": "stream",
          "text": [
            "[MoviePy] Done.\n",
            "[MoviePy] >>>> Video ready: /content/gdrive/MyDrive/RitikaVideoDataset/data/diverse_face_dataset/NEW/self_356.mp4 \n",
            "\n",
            "39 42\n",
            "[MoviePy] >>>> Building video /content/gdrive/MyDrive/RitikaVideoDataset/data/diverse_face_dataset/NEW/self_357.mp4\n",
            "[MoviePy] Writing video /content/gdrive/MyDrive/RitikaVideoDataset/data/diverse_face_dataset/NEW/self_357.mp4\n"
          ],
          "name": "stdout"
        },
        {
          "output_type": "stream",
          "text": [
            " 99%|█████████▉| 90/91 [00:02<00:00, 38.33it/s]\n"
          ],
          "name": "stderr"
        },
        {
          "output_type": "stream",
          "text": [
            "[MoviePy] Done.\n",
            "[MoviePy] >>>> Video ready: /content/gdrive/MyDrive/RitikaVideoDataset/data/diverse_face_dataset/NEW/self_357.mp4 \n",
            "\n",
            "42 45\n",
            "[MoviePy] >>>> Building video /content/gdrive/MyDrive/RitikaVideoDataset/data/diverse_face_dataset/NEW/self_358.mp4\n",
            "[MoviePy] Writing video /content/gdrive/MyDrive/RitikaVideoDataset/data/diverse_face_dataset/NEW/self_358.mp4\n"
          ],
          "name": "stdout"
        },
        {
          "output_type": "stream",
          "text": [
            " 99%|█████████▉| 90/91 [00:02<00:00, 38.49it/s]\n"
          ],
          "name": "stderr"
        },
        {
          "output_type": "stream",
          "text": [
            "[MoviePy] Done.\n",
            "[MoviePy] >>>> Video ready: /content/gdrive/MyDrive/RitikaVideoDataset/data/diverse_face_dataset/NEW/self_358.mp4 \n",
            "\n",
            "45 48\n",
            "[MoviePy] >>>> Building video /content/gdrive/MyDrive/RitikaVideoDataset/data/diverse_face_dataset/NEW/self_359.mp4\n",
            "[MoviePy] Writing video /content/gdrive/MyDrive/RitikaVideoDataset/data/diverse_face_dataset/NEW/self_359.mp4\n"
          ],
          "name": "stdout"
        },
        {
          "output_type": "stream",
          "text": [
            " 99%|█████████▉| 90/91 [00:02<00:00, 38.36it/s]\n"
          ],
          "name": "stderr"
        },
        {
          "output_type": "stream",
          "text": [
            "[MoviePy] Done.\n",
            "[MoviePy] >>>> Video ready: /content/gdrive/MyDrive/RitikaVideoDataset/data/diverse_face_dataset/NEW/self_359.mp4 \n",
            "\n",
            "48 51\n",
            "[MoviePy] >>>> Building video /content/gdrive/MyDrive/RitikaVideoDataset/data/diverse_face_dataset/NEW/self_360.mp4\n",
            "[MoviePy] Writing video /content/gdrive/MyDrive/RitikaVideoDataset/data/diverse_face_dataset/NEW/self_360.mp4\n"
          ],
          "name": "stdout"
        },
        {
          "output_type": "stream",
          "text": [
            " 99%|█████████▉| 90/91 [00:02<00:00, 38.36it/s]\n"
          ],
          "name": "stderr"
        },
        {
          "output_type": "stream",
          "text": [
            "[MoviePy] Done.\n",
            "[MoviePy] >>>> Video ready: /content/gdrive/MyDrive/RitikaVideoDataset/data/diverse_face_dataset/NEW/self_360.mp4 \n",
            "\n",
            "51 54\n",
            "[MoviePy] >>>> Building video /content/gdrive/MyDrive/RitikaVideoDataset/data/diverse_face_dataset/NEW/self_361.mp4\n",
            "[MoviePy] Writing video /content/gdrive/MyDrive/RitikaVideoDataset/data/diverse_face_dataset/NEW/self_361.mp4\n"
          ],
          "name": "stdout"
        },
        {
          "output_type": "stream",
          "text": [
            " 99%|█████████▉| 90/91 [00:02<00:00, 39.74it/s]\n"
          ],
          "name": "stderr"
        },
        {
          "output_type": "stream",
          "text": [
            "[MoviePy] Done.\n",
            "[MoviePy] >>>> Video ready: /content/gdrive/MyDrive/RitikaVideoDataset/data/diverse_face_dataset/NEW/self_361.mp4 \n",
            "\n",
            "54 57\n",
            "[MoviePy] >>>> Building video /content/gdrive/MyDrive/RitikaVideoDataset/data/diverse_face_dataset/NEW/self_362.mp4\n",
            "[MoviePy] Writing video /content/gdrive/MyDrive/RitikaVideoDataset/data/diverse_face_dataset/NEW/self_362.mp4\n"
          ],
          "name": "stdout"
        },
        {
          "output_type": "stream",
          "text": [
            " 99%|█████████▉| 90/91 [00:02<00:00, 39.23it/s]\n"
          ],
          "name": "stderr"
        },
        {
          "output_type": "stream",
          "text": [
            "[MoviePy] Done.\n",
            "[MoviePy] >>>> Video ready: /content/gdrive/MyDrive/RitikaVideoDataset/data/diverse_face_dataset/NEW/self_362.mp4 \n",
            "\n",
            "57 60\n",
            "[MoviePy] >>>> Building video /content/gdrive/MyDrive/RitikaVideoDataset/data/diverse_face_dataset/NEW/self_363.mp4\n",
            "[MoviePy] Writing video /content/gdrive/MyDrive/RitikaVideoDataset/data/diverse_face_dataset/NEW/self_363.mp4\n"
          ],
          "name": "stdout"
        },
        {
          "output_type": "stream",
          "text": [
            " 99%|█████████▉| 90/91 [00:02<00:00, 39.21it/s]\n"
          ],
          "name": "stderr"
        },
        {
          "output_type": "stream",
          "text": [
            "[MoviePy] Done.\n",
            "[MoviePy] >>>> Video ready: /content/gdrive/MyDrive/RitikaVideoDataset/data/diverse_face_dataset/NEW/self_363.mp4 \n",
            "\n",
            "60 63\n",
            "[MoviePy] >>>> Building video /content/gdrive/MyDrive/RitikaVideoDataset/data/diverse_face_dataset/NEW/self_364.mp4\n",
            "[MoviePy] Writing video /content/gdrive/MyDrive/RitikaVideoDataset/data/diverse_face_dataset/NEW/self_364.mp4\n"
          ],
          "name": "stdout"
        },
        {
          "output_type": "stream",
          "text": [
            " 99%|█████████▉| 90/91 [00:02<00:00, 38.97it/s]\n"
          ],
          "name": "stderr"
        },
        {
          "output_type": "stream",
          "text": [
            "[MoviePy] Done.\n",
            "[MoviePy] >>>> Video ready: /content/gdrive/MyDrive/RitikaVideoDataset/data/diverse_face_dataset/NEW/self_364.mp4 \n",
            "\n",
            "63 66\n",
            "[MoviePy] >>>> Building video /content/gdrive/MyDrive/RitikaVideoDataset/data/diverse_face_dataset/NEW/self_365.mp4\n",
            "[MoviePy] Writing video /content/gdrive/MyDrive/RitikaVideoDataset/data/diverse_face_dataset/NEW/self_365.mp4\n"
          ],
          "name": "stdout"
        },
        {
          "output_type": "stream",
          "text": [
            " 99%|█████████▉| 90/91 [00:02<00:00, 38.98it/s]\n"
          ],
          "name": "stderr"
        },
        {
          "output_type": "stream",
          "text": [
            "[MoviePy] Done.\n",
            "[MoviePy] >>>> Video ready: /content/gdrive/MyDrive/RitikaVideoDataset/data/diverse_face_dataset/NEW/self_365.mp4 \n",
            "\n",
            "66 69\n",
            "[MoviePy] >>>> Building video /content/gdrive/MyDrive/RitikaVideoDataset/data/diverse_face_dataset/NEW/self_366.mp4\n",
            "[MoviePy] Writing video /content/gdrive/MyDrive/RitikaVideoDataset/data/diverse_face_dataset/NEW/self_366.mp4\n"
          ],
          "name": "stdout"
        },
        {
          "output_type": "stream",
          "text": [
            " 99%|█████████▉| 90/91 [00:02<00:00, 38.98it/s]\n"
          ],
          "name": "stderr"
        },
        {
          "output_type": "stream",
          "text": [
            "[MoviePy] Done.\n",
            "[MoviePy] >>>> Video ready: /content/gdrive/MyDrive/RitikaVideoDataset/data/diverse_face_dataset/NEW/self_366.mp4 \n",
            "\n"
          ],
          "name": "stdout"
        }
      ]
    },
    {
      "cell_type": "markdown",
      "metadata": {
        "id": "7_1jBvl2-jxO"
      },
      "source": [
        "## Model training"
      ]
    },
    {
      "cell_type": "markdown",
      "metadata": {
        "id": "qg2mLFdPCHm1"
      },
      "source": [
        "#### diverse-face-dataset"
      ]
    },
    {
      "cell_type": "code",
      "metadata": {
        "colab": {
          "base_uri": "https://localhost:8080/"
        },
        "id": "v3-njsbhqhf2",
        "outputId": "6db8ff15-6d46-4219-bc70-59647df24ac7"
      },
      "source": [
        "! python run.py --config /content/gdrive/My\\ Drive/RitikaVideoDataset/data/diverse_face_dataset/config/diverse-face-dataset.yaml "
      ],
      "execution_count": 44,
      "outputs": [
        {
          "output_type": "stream",
          "text": [
            "Use predefined train-test split.\n",
            "Training...\n",
            "100% 6/6 [56:06<00:00, 561.14s/it]\n"
          ],
          "name": "stdout"
        }
      ]
    },
    {
      "cell_type": "markdown",
      "metadata": {
        "id": "Q7t4B0miCA9i"
      },
      "source": [
        "#### 31Dataset"
      ]
    },
    {
      "cell_type": "code",
      "metadata": {
        "id": "oyt1Up0IecFN"
      },
      "source": [
        "# !python run.py --config /content/gdrive/My\\ Drive/RitikaVideoDataset/data/ritika_dataset_31/config/ritika-dataset.yaml"
      ],
      "execution_count": null,
      "outputs": []
    }
  ]
}